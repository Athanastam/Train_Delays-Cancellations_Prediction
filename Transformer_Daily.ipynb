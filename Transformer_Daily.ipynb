{
 "cells": [
  {
   "cell_type": "code",
   "execution_count": 1,
   "id": "662e8086-833c-43d2-a5e7-3567e61476e0",
   "metadata": {
    "tags": []
   },
   "outputs": [
    {
     "name": "stderr",
     "output_type": "stream",
     "text": [
      "C:\\Users\\polar\\anaconda3\\Lib\\site-packages\\pandas\\core\\arrays\\masked.py:60: UserWarning: Pandas requires version '1.3.6' or newer of 'bottleneck' (version '1.3.5' currently installed).\n",
      "  from pandas.core import (\n"
     ]
    },
    {
     "data": {
      "text/html": [
       "<div>\n",
       "<style scoped>\n",
       "    .dataframe tbody tr th:only-of-type {\n",
       "        vertical-align: middle;\n",
       "    }\n",
       "\n",
       "    .dataframe tbody tr th {\n",
       "        vertical-align: top;\n",
       "    }\n",
       "\n",
       "    .dataframe thead th {\n",
       "        text-align: right;\n",
       "    }\n",
       "</style>\n",
       "<table border=\"1\" class=\"dataframe\">\n",
       "  <thead>\n",
       "    <tr style=\"text-align: right;\">\n",
       "      <th></th>\n",
       "      <th>Service:RDT-ID</th>\n",
       "      <th>date</th>\n",
       "      <th>Service:Type</th>\n",
       "      <th>Service:Company</th>\n",
       "      <th>Service:Train number</th>\n",
       "      <th>Service:Completely cancelled</th>\n",
       "      <th>Service:Partly cancelled</th>\n",
       "      <th>Service:Maximum delay</th>\n",
       "      <th>Stop:RDT-ID</th>\n",
       "      <th>Stop:Station code</th>\n",
       "      <th>...</th>\n",
       "      <th>Stop:Departure time</th>\n",
       "      <th>Stop:Departure delay</th>\n",
       "      <th>Stop:Departure cancelled</th>\n",
       "      <th>tavg</th>\n",
       "      <th>tmin</th>\n",
       "      <th>tmax</th>\n",
       "      <th>prcp</th>\n",
       "      <th>wdir</th>\n",
       "      <th>wspd</th>\n",
       "      <th>pres</th>\n",
       "    </tr>\n",
       "  </thead>\n",
       "  <tbody>\n",
       "    <tr>\n",
       "      <th>0</th>\n",
       "      <td>12690865</td>\n",
       "      <td>2024-01-01</td>\n",
       "      <td>Intercity</td>\n",
       "      <td>NS</td>\n",
       "      <td>1410</td>\n",
       "      <td>False</td>\n",
       "      <td>False</td>\n",
       "      <td>0</td>\n",
       "      <td>114307596</td>\n",
       "      <td>SHL</td>\n",
       "      <td>...</td>\n",
       "      <td>2024-01-01T03:03:00+01:00</td>\n",
       "      <td>0.0</td>\n",
       "      <td>False</td>\n",
       "      <td>8.0</td>\n",
       "      <td>5.9</td>\n",
       "      <td>9.2</td>\n",
       "      <td>6.4</td>\n",
       "      <td>224.0</td>\n",
       "      <td>31.2</td>\n",
       "      <td>1000.0</td>\n",
       "    </tr>\n",
       "    <tr>\n",
       "      <th>1</th>\n",
       "      <td>12690865</td>\n",
       "      <td>2024-01-01</td>\n",
       "      <td>Intercity</td>\n",
       "      <td>NS</td>\n",
       "      <td>1410</td>\n",
       "      <td>False</td>\n",
       "      <td>False</td>\n",
       "      <td>0</td>\n",
       "      <td>114307597</td>\n",
       "      <td>ASS</td>\n",
       "      <td>...</td>\n",
       "      <td>2024-01-01T03:12:00+01:00</td>\n",
       "      <td>0.0</td>\n",
       "      <td>False</td>\n",
       "      <td>8.0</td>\n",
       "      <td>5.9</td>\n",
       "      <td>9.2</td>\n",
       "      <td>6.4</td>\n",
       "      <td>224.0</td>\n",
       "      <td>31.2</td>\n",
       "      <td>1000.0</td>\n",
       "    </tr>\n",
       "    <tr>\n",
       "      <th>2</th>\n",
       "      <td>12690865</td>\n",
       "      <td>2024-01-01</td>\n",
       "      <td>Intercity</td>\n",
       "      <td>NS</td>\n",
       "      <td>1410</td>\n",
       "      <td>False</td>\n",
       "      <td>False</td>\n",
       "      <td>0</td>\n",
       "      <td>114307598</td>\n",
       "      <td>ASD</td>\n",
       "      <td>...</td>\n",
       "      <td>2024-01-01T03:20:00+01:00</td>\n",
       "      <td>2.0</td>\n",
       "      <td>False</td>\n",
       "      <td>8.0</td>\n",
       "      <td>5.9</td>\n",
       "      <td>9.2</td>\n",
       "      <td>6.4</td>\n",
       "      <td>224.0</td>\n",
       "      <td>31.2</td>\n",
       "      <td>1000.0</td>\n",
       "    </tr>\n",
       "    <tr>\n",
       "      <th>3</th>\n",
       "      <td>12690865</td>\n",
       "      <td>2024-01-01</td>\n",
       "      <td>Intercity</td>\n",
       "      <td>NS</td>\n",
       "      <td>1410</td>\n",
       "      <td>False</td>\n",
       "      <td>False</td>\n",
       "      <td>0</td>\n",
       "      <td>114307599</td>\n",
       "      <td>ASB</td>\n",
       "      <td>...</td>\n",
       "      <td>2024-01-01T03:31:00+01:00</td>\n",
       "      <td>2.0</td>\n",
       "      <td>False</td>\n",
       "      <td>8.0</td>\n",
       "      <td>5.9</td>\n",
       "      <td>9.2</td>\n",
       "      <td>6.4</td>\n",
       "      <td>224.0</td>\n",
       "      <td>31.2</td>\n",
       "      <td>1000.0</td>\n",
       "    </tr>\n",
       "    <tr>\n",
       "      <th>4</th>\n",
       "      <td>12690867</td>\n",
       "      <td>2024-01-01</td>\n",
       "      <td>Intercity</td>\n",
       "      <td>NS</td>\n",
       "      <td>1409</td>\n",
       "      <td>False</td>\n",
       "      <td>False</td>\n",
       "      <td>0</td>\n",
       "      <td>114307611</td>\n",
       "      <td>ASB</td>\n",
       "      <td>...</td>\n",
       "      <td>2024-01-01T02:33:00+01:00</td>\n",
       "      <td>3.0</td>\n",
       "      <td>False</td>\n",
       "      <td>8.0</td>\n",
       "      <td>5.9</td>\n",
       "      <td>9.2</td>\n",
       "      <td>6.4</td>\n",
       "      <td>224.0</td>\n",
       "      <td>31.2</td>\n",
       "      <td>1000.0</td>\n",
       "    </tr>\n",
       "  </tbody>\n",
       "</table>\n",
       "<p>5 rows × 24 columns</p>\n",
       "</div>"
      ],
      "text/plain": [
       "   Service:RDT-ID        date Service:Type Service:Company  \\\n",
       "0        12690865  2024-01-01    Intercity              NS   \n",
       "1        12690865  2024-01-01    Intercity              NS   \n",
       "2        12690865  2024-01-01    Intercity              NS   \n",
       "3        12690865  2024-01-01    Intercity              NS   \n",
       "4        12690867  2024-01-01    Intercity              NS   \n",
       "\n",
       "   Service:Train number  Service:Completely cancelled  \\\n",
       "0                  1410                         False   \n",
       "1                  1410                         False   \n",
       "2                  1410                         False   \n",
       "3                  1410                         False   \n",
       "4                  1409                         False   \n",
       "\n",
       "   Service:Partly cancelled  Service:Maximum delay  Stop:RDT-ID  \\\n",
       "0                     False                      0    114307596   \n",
       "1                     False                      0    114307597   \n",
       "2                     False                      0    114307598   \n",
       "3                     False                      0    114307599   \n",
       "4                     False                      0    114307611   \n",
       "\n",
       "  Stop:Station code  ...        Stop:Departure time Stop:Departure delay  \\\n",
       "0               SHL  ...  2024-01-01T03:03:00+01:00                  0.0   \n",
       "1               ASS  ...  2024-01-01T03:12:00+01:00                  0.0   \n",
       "2               ASD  ...  2024-01-01T03:20:00+01:00                  2.0   \n",
       "3               ASB  ...  2024-01-01T03:31:00+01:00                  2.0   \n",
       "4               ASB  ...  2024-01-01T02:33:00+01:00                  3.0   \n",
       "\n",
       "   Stop:Departure cancelled  tavg tmin  tmax  prcp   wdir  wspd    pres  \n",
       "0                     False   8.0  5.9   9.2   6.4  224.0  31.2  1000.0  \n",
       "1                     False   8.0  5.9   9.2   6.4  224.0  31.2  1000.0  \n",
       "2                     False   8.0  5.9   9.2   6.4  224.0  31.2  1000.0  \n",
       "3                     False   8.0  5.9   9.2   6.4  224.0  31.2  1000.0  \n",
       "4                     False   8.0  5.9   9.2   6.4  224.0  31.2  1000.0  \n",
       "\n",
       "[5 rows x 24 columns]"
      ]
     },
     "execution_count": 1,
     "metadata": {},
     "output_type": "execute_result"
    }
   ],
   "source": [
    "import pandas as pd\n",
    "import matplotlib.pyplot as plt\n",
    "# load the dataset\n",
    "df=pd.read_csv('merged_df.csv')\n",
    "df.head()"
   ]
  },
  {
   "cell_type": "code",
   "execution_count": 2,
   "id": "47de29ba-9aeb-40fa-9958-33bd3356b685",
   "metadata": {
    "tags": []
   },
   "outputs": [],
   "source": [
    "df.index = df.date"
   ]
  },
  {
   "cell_type": "code",
   "execution_count": 3,
   "id": "1aeaae36-66cf-489a-9d65-9fde82fa2db9",
   "metadata": {
    "tags": []
   },
   "outputs": [],
   "source": [
    "df['Total Delay'] = df['Stop:Departure delay'] + df['Stop:Arrival delay']"
   ]
  },
  {
   "cell_type": "code",
   "execution_count": 4,
   "id": "c50a43f0-bb49-464e-977a-99a20f37907f",
   "metadata": {
    "tags": []
   },
   "outputs": [],
   "source": [
    "filtered_delays = df[(df['Total Delay'] <= 30)\n",
    "                                 ]"
   ]
  },
  {
   "cell_type": "code",
   "execution_count": 5,
   "id": "d1b4e71d-dd17-441e-8c6f-f13568f46923",
   "metadata": {
    "tags": []
   },
   "outputs": [],
   "source": [
    "delay_df = filtered_delays[['Total Delay', 'tmin', 'tmax', 'date', 'wdir', 'wspd', 'prcp', 'pres']]"
   ]
  },
  {
   "cell_type": "code",
   "execution_count": 6,
   "id": "e90ecf7a-f49f-41f3-8ec0-37777f4e7ed3",
   "metadata": {
    "tags": []
   },
   "outputs": [
    {
     "name": "stderr",
     "output_type": "stream",
     "text": [
      "C:\\Users\\polar\\AppData\\Local\\Temp\\ipykernel_28064\\3265913689.py:7: SettingWithCopyWarning: \n",
      "A value is trying to be set on a copy of a slice from a DataFrame.\n",
      "Try using .loc[row_indexer,col_indexer] = value instead\n",
      "\n",
      "See the caveats in the documentation: https://pandas.pydata.org/pandas-docs/stable/user_guide/indexing.html#returning-a-view-versus-a-copy\n",
      "  delay_df['date'] = pd.to_datetime(delay_df['date'])\n"
     ]
    },
    {
     "data": {
      "image/png": "[encoded data removed]",
      "text/plain": [
       "<Figure size 640x480 with 1 Axes>"
      ]
     },
     "metadata": {},
     "output_type": "display_data"
    }
   ],
   "source": [
    "import pandas as pd\n",
    "import matplotlib.pyplot as plt\n",
    "\n",
    "\n",
    "\n",
    "# Convert the 'timestamp' column to datetime if it's not already\n",
    "delay_df['date'] = pd.to_datetime(delay_df['date'])\n",
    "\n",
    "# Set the 'timestamp' column as the index\n",
    "delay_df.set_index('date', inplace=True)\n",
    "\n",
    "# Resample the data (e.g., to daily frequency)\n",
    "daily_delays = delay_df.resample('D').mean()  # 'D' for daily resampling\n",
    "\n",
    "# Plot the resampled data\n",
    "plt.plot(daily_delays.index, daily_delays['Total Delay'])\n",
    "plt.title('Total Delay (Daily Average)')\n",
    "plt.xlabel('Date')\n",
    "plt.ylabel('Total Delay')\n",
    "plt.xticks(rotation=45)\n",
    "plt.show()"
   ]
  },
  {
   "cell_type": "code",
   "execution_count": 7,
   "id": "383bd15c-f148-4228-8eb8-c88f20f76c5b",
   "metadata": {
    "tags": []
   },
   "outputs": [
    {
     "name": "stdout",
     "output_type": "stream",
     "text": [
      "<class 'pandas.core.frame.DataFrame'>\n",
      "DatetimeIndex: 366 entries, 2024-01-01 to 2024-12-31\n",
      "Freq: D\n",
      "Data columns (total 7 columns):\n",
      " #   Column       Non-Null Count  Dtype  \n",
      "---  ------       --------------  -----  \n",
      " 0   Total Delay  366 non-null    float64\n",
      " 1   tmin         366 non-null    float64\n",
      " 2   tmax         366 non-null    float64\n",
      " 3   wdir         366 non-null    float64\n",
      " 4   wspd         366 non-null    float64\n",
      " 5   prcp         366 non-null    float64\n",
      " 6   pres         366 non-null    float64\n",
      "dtypes: float64(7)\n",
      "memory usage: 22.9 KB\n"
     ]
    }
   ],
   "source": [
    "daily_delays.info()"
   ]
  },
  {
   "cell_type": "code",
   "execution_count": 223,
   "id": "4b6fbca1-f060-410a-8a8e-4c7d35174b4f",
   "metadata": {
    "tags": []
   },
   "outputs": [],
   "source": [
    "import numpy as np\n",
    "\n",
    "def create_sequences(daily_delays, seq_length, forecast_horizon=30):\n",
    "    X, y = [], []\n",
    "    for i in range(len(daily_delays) - seq_length - forecast_horizon):\n",
    "        # Use iloc to ensure proper index-based slicing\n",
    "        X.append(daily_delays.iloc[i:i + seq_length].values)\n",
    "        y.append(daily_delays.iloc[i + seq_length:i + seq_length + forecast_horizon]['Total Delay'].values)\n",
    "    return np.array(X), np.array(y)\n",
    "\n",
    "# Choose sequence length and forecast horizon\n",
    "seq_length = 60  # Number of past timesteps to use for prediction\n",
    "forecast_horizon = 30  # Number of days to forecast (next 30 days)\n",
    "\n",
    "# Create sequences from the sampled data\n",
    "X_train, y_train = create_sequences(daily_delays, seq_length, forecast_horizon)"
   ]
  },
  {
   "cell_type": "code",
   "execution_count": 224,
   "id": "6e1feb4d-3a31-4f42-bec8-1cf8a5a9aefd",
   "metadata": {
    "tags": []
   },
   "outputs": [],
   "source": [
    "from tensorflow.keras.layers import Input, Dense, LayerNormalization, MultiHeadAttention, Dropout\n",
    "from tensorflow.keras.models import Model\n",
    "\n",
    "def transformer_encoder(input_seq, head_size, num_heads, ff_dim, dropout=0.1):\n",
    "    # Multi-head attention layer\n",
    "    attention = MultiHeadAttention(num_heads=num_heads, key_dim=head_size)(input_seq, input_seq)\n",
    "    attention = Dropout(dropout)(attention)\n",
    "    attention = LayerNormalization(epsilon=1e-6)(input_seq + attention)\n",
    "    \n",
    "    # Feed-forward layer\n",
    "    ff = Dense(ff_dim, activation=\"relu\")(attention)\n",
    "    ff = Dropout(dropout)(ff)\n",
    "    ff = Dense(input_seq.shape[-1])(ff)\n",
    "    ff = LayerNormalization(epsilon=1e-6)(attention + ff)\n",
    "    \n",
    "    return ff\n",
    "\n",
    "def build_transformer_model(seq_length, feature_dim, head_size=64, num_heads=4, ff_dim=128, num_layers=2, forecast_horizon=30):\n",
    "    inputs = Input(shape=(seq_length, feature_dim))\n",
    "    \n",
    "    # Add transformer encoder layers\n",
    "    x = inputs\n",
    "    for _ in range(num_layers):\n",
    "        x = transformer_encoder(x, head_size, num_heads, ff_dim)\n",
    "    \n",
    "    # Forecasting layer (fully connected)\n",
    "    output = Dense(forecast_horizon)(x[:, -1, :])  # Using the last timestep for prediction\n",
    "    \n",
    "    model = Model(inputs, output)\n",
    "    model.compile(optimizer=\"adam\", loss=\"mse\")\n",
    "    \n",
    "    return model"
   ]
  },
  {
   "cell_type": "code",
   "execution_count": 225,
   "id": "1754ef9d-e424-4075-813e-62946b1d09c5",
   "metadata": {
    "tags": []
   },
   "outputs": [
    {
     "name": "stdout",
     "output_type": "stream",
     "text": [
      "Epoch 1/50\n",
      "\u001b[1m8/8\u001b[0m \u001b[32m━━━━━━━━━━━━━━━━━━━━\u001b[0m\u001b[37m\u001b[0m \u001b[1m5s\u001b[0m 78ms/step - loss: 2.1966 - val_loss: 2.9248\n",
      "Epoch 2/50\n",
      "\u001b[1m8/8\u001b[0m \u001b[32m━━━━━━━━━━━━━━━━━━━━\u001b[0m\u001b[37m\u001b[0m \u001b[1m0s\u001b[0m 43ms/step - loss: 1.6723 - val_loss: 2.6901\n",
      "Epoch 3/50\n",
      "\u001b[1m8/8\u001b[0m \u001b[32m━━━━━━━━━━━━━━━━━━━━\u001b[0m\u001b[37m\u001b[0m \u001b[1m0s\u001b[0m 45ms/step - loss: 1.5202 - val_loss: 2.5650\n",
      "Epoch 4/50\n",
      "\u001b[1m8/8\u001b[0m \u001b[32m━━━━━━━━━━━━━━━━━━━━\u001b[0m\u001b[37m\u001b[0m \u001b[1m0s\u001b[0m 42ms/step - loss: 1.4137 - val_loss: 2.4245\n",
      "Epoch 5/50\n",
      "\u001b[1m8/8\u001b[0m \u001b[32m━━━━━━━━━━━━━━━━━━━━\u001b[0m\u001b[37m\u001b[0m \u001b[1m0s\u001b[0m 43ms/step - loss: 1.2860 - val_loss: 2.2933\n",
      "Epoch 6/50\n",
      "\u001b[1m8/8\u001b[0m \u001b[32m━━━━━━━━━━━━━━━━━━━━\u001b[0m\u001b[37m\u001b[0m \u001b[1m0s\u001b[0m 45ms/step - loss: 1.2101 - val_loss: 2.1676\n",
      "Epoch 7/50\n",
      "\u001b[1m8/8\u001b[0m \u001b[32m━━━━━━━━━━━━━━━━━━━━\u001b[0m\u001b[37m\u001b[0m \u001b[1m0s\u001b[0m 48ms/step - loss: 1.1318 - val_loss: 2.0428\n",
      "Epoch 8/50\n",
      "\u001b[1m8/8\u001b[0m \u001b[32m━━━━━━━━━━━━━━━━━━━━\u001b[0m\u001b[37m\u001b[0m \u001b[1m0s\u001b[0m 47ms/step - loss: 1.0290 - val_loss: 1.9254\n",
      "Epoch 9/50\n",
      "\u001b[1m8/8\u001b[0m \u001b[32m━━━━━━━━━━━━━━━━━━━━\u001b[0m\u001b[37m\u001b[0m \u001b[1m0s\u001b[0m 43ms/step - loss: 0.9568 - val_loss: 1.8092\n",
      "Epoch 10/50\n",
      "\u001b[1m8/8\u001b[0m \u001b[32m━━━━━━━━━━━━━━━━━━━━\u001b[0m\u001b[37m\u001b[0m \u001b[1m0s\u001b[0m 39ms/step - loss: 0.8506 - val_loss: 1.7047\n",
      "Epoch 11/50\n",
      "\u001b[1m8/8\u001b[0m \u001b[32m━━━━━━━━━━━━━━━━━━━━\u001b[0m\u001b[37m\u001b[0m \u001b[1m0s\u001b[0m 40ms/step - loss: 0.8008 - val_loss: 1.5937\n",
      "Epoch 12/50\n",
      "\u001b[1m8/8\u001b[0m \u001b[32m━━━━━━━━━━━━━━━━━━━━\u001b[0m\u001b[37m\u001b[0m \u001b[1m0s\u001b[0m 42ms/step - loss: 0.7226 - val_loss: 1.4981\n",
      "Epoch 13/50\n",
      "\u001b[1m8/8\u001b[0m \u001b[32m━━━━━━━━━━━━━━━━━━━━\u001b[0m\u001b[37m\u001b[0m \u001b[1m0s\u001b[0m 42ms/step - loss: 0.6803 - val_loss: 1.3962\n",
      "Epoch 14/50\n",
      "\u001b[1m8/8\u001b[0m \u001b[32m━━━━━━━━━━━━━━━━━━━━\u001b[0m\u001b[37m\u001b[0m \u001b[1m0s\u001b[0m 40ms/step - loss: 0.5908 - val_loss: 1.3099\n",
      "Epoch 15/50\n",
      "\u001b[1m8/8\u001b[0m \u001b[32m━━━━━━━━━━━━━━━━━━━━\u001b[0m\u001b[37m\u001b[0m \u001b[1m0s\u001b[0m 43ms/step - loss: 0.5648 - val_loss: 1.2211\n",
      "Epoch 16/50\n",
      "\u001b[1m8/8\u001b[0m \u001b[32m━━━━━━━━━━━━━━━━━━━━\u001b[0m\u001b[37m\u001b[0m \u001b[1m0s\u001b[0m 44ms/step - loss: 0.4768 - val_loss: 1.1446\n",
      "Epoch 17/50\n",
      "\u001b[1m8/8\u001b[0m \u001b[32m━━━━━━━━━━━━━━━━━━━━\u001b[0m\u001b[37m\u001b[0m \u001b[1m0s\u001b[0m 44ms/step - loss: 0.4332 - val_loss: 1.0682\n",
      "Epoch 18/50\n",
      "\u001b[1m8/8\u001b[0m \u001b[32m━━━━━━━━━━━━━━━━━━━━\u001b[0m\u001b[37m\u001b[0m \u001b[1m0s\u001b[0m 47ms/step - loss: 0.3931 - val_loss: 1.0003\n",
      "Epoch 19/50\n",
      "\u001b[1m8/8\u001b[0m \u001b[32m━━━━━━━━━━━━━━━━━━━━\u001b[0m\u001b[37m\u001b[0m \u001b[1m0s\u001b[0m 39ms/step - loss: 0.3459 - val_loss: 0.9372\n",
      "Epoch 20/50\n",
      "\u001b[1m8/8\u001b[0m \u001b[32m━━━━━━━━━━━━━━━━━━━━\u001b[0m\u001b[37m\u001b[0m \u001b[1m0s\u001b[0m 39ms/step - loss: 0.3150 - val_loss: 0.8752\n",
      "Epoch 21/50\n",
      "\u001b[1m8/8\u001b[0m \u001b[32m━━━━━━━━━━━━━━━━━━━━\u001b[0m\u001b[37m\u001b[0m \u001b[1m0s\u001b[0m 39ms/step - loss: 0.2828 - val_loss: 0.8236\n",
      "Epoch 22/50\n",
      "\u001b[1m8/8\u001b[0m \u001b[32m━━━━━━━━━━━━━━━━━━━━\u001b[0m\u001b[37m\u001b[0m \u001b[1m0s\u001b[0m 40ms/step - loss: 0.2472 - val_loss: 0.7734\n",
      "Epoch 23/50\n",
      "\u001b[1m8/8\u001b[0m \u001b[32m━━━━━━━━━━━━━━━━━━━━\u001b[0m\u001b[37m\u001b[0m \u001b[1m0s\u001b[0m 38ms/step - loss: 0.2272 - val_loss: 0.7357\n",
      "Epoch 24/50\n",
      "\u001b[1m8/8\u001b[0m \u001b[32m━━━━━━━━━━━━━━━━━━━━\u001b[0m\u001b[37m\u001b[0m \u001b[1m0s\u001b[0m 40ms/step - loss: 0.2071 - val_loss: 0.6950\n",
      "Epoch 25/50\n",
      "\u001b[1m8/8\u001b[0m \u001b[32m━━━━━━━━━━━━━━━━━━━━\u001b[0m\u001b[37m\u001b[0m \u001b[1m0s\u001b[0m 42ms/step - loss: 0.1872 - val_loss: 0.6605\n",
      "Epoch 26/50\n",
      "\u001b[1m8/8\u001b[0m \u001b[32m━━━━━━━━━━━━━━━━━━━━\u001b[0m\u001b[37m\u001b[0m \u001b[1m0s\u001b[0m 41ms/step - loss: 0.1741 - val_loss: 0.6362\n",
      "Epoch 27/50\n",
      "\u001b[1m8/8\u001b[0m \u001b[32m━━━━━━━━━━━━━━━━━━━━\u001b[0m\u001b[37m\u001b[0m \u001b[1m0s\u001b[0m 41ms/step - loss: 0.1538 - val_loss: 0.6099\n",
      "Epoch 28/50\n",
      "\u001b[1m8/8\u001b[0m \u001b[32m━━━━━━━━━━━━━━━━━━━━\u001b[0m\u001b[37m\u001b[0m \u001b[1m0s\u001b[0m 43ms/step - loss: 0.1510 - val_loss: 0.5877\n",
      "Epoch 29/50\n",
      "\u001b[1m8/8\u001b[0m \u001b[32m━━━━━━━━━━━━━━━━━━━━\u001b[0m\u001b[37m\u001b[0m \u001b[1m0s\u001b[0m 38ms/step - loss: 0.1458 - val_loss: 0.5700\n",
      "Epoch 30/50\n",
      "\u001b[1m8/8\u001b[0m \u001b[32m━━━━━━━━━━━━━━━━━━━━\u001b[0m\u001b[37m\u001b[0m \u001b[1m0s\u001b[0m 42ms/step - loss: 0.1361 - val_loss: 0.5552\n",
      "Epoch 31/50\n",
      "\u001b[1m8/8\u001b[0m \u001b[32m━━━━━━━━━━━━━━━━━━━━\u001b[0m\u001b[37m\u001b[0m \u001b[1m0s\u001b[0m 39ms/step - loss: 0.1333 - val_loss: 0.5426\n",
      "Epoch 32/50\n",
      "\u001b[1m8/8\u001b[0m \u001b[32m━━━━━━━━━━━━━━━━━━━━\u001b[0m\u001b[37m\u001b[0m \u001b[1m0s\u001b[0m 39ms/step - loss: 0.1297 - val_loss: 0.5296\n",
      "Epoch 33/50\n",
      "\u001b[1m8/8\u001b[0m \u001b[32m━━━━━━━━━━━━━━━━━━━━\u001b[0m\u001b[37m\u001b[0m \u001b[1m0s\u001b[0m 40ms/step - loss: 0.1259 - val_loss: 0.5220\n",
      "Epoch 34/50\n",
      "\u001b[1m8/8\u001b[0m \u001b[32m━━━━━━━━━━━━━━━━━━━━\u001b[0m\u001b[37m\u001b[0m \u001b[1m0s\u001b[0m 41ms/step - loss: 0.1295 - val_loss: 0.5130\n",
      "Epoch 35/50\n",
      "\u001b[1m8/8\u001b[0m \u001b[32m━━━━━━━━━━━━━━━━━━━━\u001b[0m\u001b[37m\u001b[0m \u001b[1m0s\u001b[0m 41ms/step - loss: 0.1224 - val_loss: 0.5100\n",
      "Epoch 36/50\n",
      "\u001b[1m8/8\u001b[0m \u001b[32m━━━━━━━━━━━━━━━━━━━━\u001b[0m\u001b[37m\u001b[0m \u001b[1m0s\u001b[0m 38ms/step - loss: 0.1209 - val_loss: 0.5019\n",
      "Epoch 37/50\n",
      "\u001b[1m8/8\u001b[0m \u001b[32m━━━━━━━━━━━━━━━━━━━━\u001b[0m\u001b[37m\u001b[0m \u001b[1m0s\u001b[0m 38ms/step - loss: 0.1177 - val_loss: 0.5004\n",
      "Epoch 38/50\n",
      "\u001b[1m8/8\u001b[0m \u001b[32m━━━━━━━━━━━━━━━━━━━━\u001b[0m\u001b[37m\u001b[0m \u001b[1m0s\u001b[0m 43ms/step - loss: 0.1192 - val_loss: 0.4976\n",
      "Epoch 39/50\n",
      "\u001b[1m8/8\u001b[0m \u001b[32m━━━━━━━━━━━━━━━━━━━━\u001b[0m\u001b[37m\u001b[0m \u001b[1m0s\u001b[0m 40ms/step - loss: 0.1177 - val_loss: 0.4956\n",
      "Epoch 40/50\n",
      "\u001b[1m8/8\u001b[0m \u001b[32m━━━━━━━━━━━━━━━━━━━━\u001b[0m\u001b[37m\u001b[0m \u001b[1m0s\u001b[0m 39ms/step - loss: 0.1162 - val_loss: 0.4952\n",
      "Epoch 41/50\n",
      "\u001b[1m8/8\u001b[0m \u001b[32m━━━━━━━━━━━━━━━━━━━━\u001b[0m\u001b[37m\u001b[0m \u001b[1m0s\u001b[0m 41ms/step - loss: 0.1208 - val_loss: 0.4901\n",
      "Epoch 42/50\n",
      "\u001b[1m8/8\u001b[0m \u001b[32m━━━━━━━━━━━━━━━━━━━━\u001b[0m\u001b[37m\u001b[0m \u001b[1m0s\u001b[0m 40ms/step - loss: 0.1192 - val_loss: 0.4919\n",
      "Epoch 43/50\n",
      "\u001b[1m8/8\u001b[0m \u001b[32m━━━━━━━━━━━━━━━━━━━━\u001b[0m\u001b[37m\u001b[0m \u001b[1m0s\u001b[0m 42ms/step - loss: 0.1193 - val_loss: 0.4854\n",
      "Epoch 44/50\n",
      "\u001b[1m8/8\u001b[0m \u001b[32m━━━━━━━━━━━━━━━━━━━━\u001b[0m\u001b[37m\u001b[0m \u001b[1m0s\u001b[0m 38ms/step - loss: 0.1111 - val_loss: 0.4872\n",
      "Epoch 45/50\n",
      "\u001b[1m8/8\u001b[0m \u001b[32m━━━━━━━━━━━━━━━━━━━━\u001b[0m\u001b[37m\u001b[0m \u001b[1m0s\u001b[0m 41ms/step - loss: 0.1205 - val_loss: 0.4842\n",
      "Epoch 46/50\n",
      "\u001b[1m8/8\u001b[0m \u001b[32m━━━━━━━━━━━━━━━━━━━━\u001b[0m\u001b[37m\u001b[0m \u001b[1m0s\u001b[0m 50ms/step - loss: 0.1152 - val_loss: 0.4825\n",
      "Epoch 47/50\n",
      "\u001b[1m8/8\u001b[0m \u001b[32m━━━━━━━━━━━━━━━━━━━━\u001b[0m\u001b[37m\u001b[0m \u001b[1m0s\u001b[0m 44ms/step - loss: 0.1175 - val_loss: 0.4840\n",
      "Epoch 48/50\n",
      "\u001b[1m8/8\u001b[0m \u001b[32m━━━━━━━━━━━━━━━━━━━━\u001b[0m\u001b[37m\u001b[0m \u001b[1m0s\u001b[0m 45ms/step - loss: 0.1250 - val_loss: 0.4843\n",
      "Epoch 49/50\n",
      "\u001b[1m8/8\u001b[0m \u001b[32m━━━━━━━━━━━━━━━━━━━━\u001b[0m\u001b[37m\u001b[0m \u001b[1m0s\u001b[0m 44ms/step - loss: 0.1125 - val_loss: 0.4831\n",
      "Epoch 50/50\n",
      "\u001b[1m8/8\u001b[0m \u001b[32m━━━━━━━━━━━━━━━━━━━━\u001b[0m\u001b[37m\u001b[0m \u001b[1m0s\u001b[0m 46ms/step - loss: 0.1144 - val_loss: 0.4893\n",
      "\n",
      "✅ Final Training Loss: 0.1165\n",
      "✅ Final Validation Loss: 0.4825\n"
     ]
    }
   ],
   "source": [
    "from sklearn.model_selection import train_test_split\n",
    "from tensorflow.keras.callbacks import EarlyStopping\n",
    "\n",
    "# Define parameters\n",
    "seq_length = 60\n",
    "forecast_horizon = 30\n",
    "feature_dim = 7\n",
    "\n",
    "# Create sequences\n",
    "X, y = create_sequences(daily_delays, seq_length, forecast_horizon)\n",
    "\n",
    "# Manually split into train and validation sets\n",
    "X_train, X_val, y_train, y_val = train_test_split(X, y, test_size=0.2, shuffle=False)\n",
    "\n",
    "# Build the model\n",
    "model = build_transformer_model(seq_length, feature_dim, forecast_horizon=forecast_horizon)\n",
    "\n",
    "# EarlyStopping\n",
    "early_stopping = EarlyStopping(monitor='val_loss', patience=5, restore_best_weights=True)\n",
    "\n",
    "# Train the model\n",
    "model.fit(X_train, y_train,\n",
    "          epochs=50,\n",
    "          batch_size=32,\n",
    "          validation_data=(X_val, y_val),\n",
    "          callbacks=[early_stopping])\n",
    "\n",
    "# Evaluate final score on both sets\n",
    "train_score = model.evaluate(X_train, y_train, verbose=0)\n",
    "val_score = model.evaluate(X_val, y_val, verbose=0)\n",
    "\n",
    "print(f\"\\n✅ Final Training Loss: {train_score:.4f}\")\n",
    "print(f\"✅ Final Validation Loss: {val_score:.4f}\")\n"
   ]
  },
  {
   "cell_type": "code",
   "execution_count": 123,
   "id": "14b30d10-244a-41b3-ac97-0d7a6c27e28b",
   "metadata": {
    "tags": []
   },
   "outputs": [
    {
     "name": "stdout",
     "output_type": "stream",
     "text": [
      "WARNING:tensorflow:5 out of the last 5 calls to <function TensorFlowTrainer.make_predict_function.<locals>.one_step_on_data_distributed at 0x000002CE84CFDD00> triggered tf.function retracing. Tracing is expensive and the excessive number of tracings could be due to (1) creating @tf.function repeatedly in a loop, (2) passing tensors with different shapes, (3) passing Python objects instead of tensors. For (1), please define your @tf.function outside of the loop. For (2), @tf.function has reduce_retracing=True option that can avoid unnecessary retracing. For (3), please refer to https://www.tensorflow.org/guide/function#controlling_retracing and https://www.tensorflow.org/api_docs/python/tf/function for  more details.\n",
      "\u001b[1m1/1\u001b[0m \u001b[32m━━━━━━━━━━━━━━━━━━━━\u001b[0m\u001b[37m\u001b[0m \u001b[1m0s\u001b[0m 209ms/step\n",
      "[[1.53472   1.5527458 1.5434502 1.5382483 1.5346668 1.5442741 1.5506265\n",
      "  1.5366278 1.5270817 1.5449724 1.5431175 1.5159088 1.5427077 1.5449867\n",
      "  1.5314655 1.5294653 1.5266172 1.5323232 1.5354719 1.5350046 1.5376716\n",
      "  1.5418003 1.5506673 1.5404955 1.5323344 1.538043  1.5294394 1.5431798\n",
      "  1.5411408 1.5446761]]\n"
     ]
    }
   ],
   "source": [
    "# Change the input sequence to match the expected shape \n",
    "input_sequence = daily_delays.iloc[-60:].values.reshape(1, 60, 7)  # Last 30 days of data with 7 features\n",
    "\n",
    "# Predict the delays for the next 30 days\n",
    "predicted_delays = model.predict(input_sequence)\n",
    "print(predicted_delays)"
   ]
  },
  {
   "cell_type": "code",
   "execution_count": 28,
   "id": "9dac6952-16e9-478a-93ae-d58c1d7d884b",
   "metadata": {
    "tags": []
   },
   "outputs": [
    {
     "name": "stdout",
     "output_type": "stream",
     "text": [
      "Most delayed station (by total delay minutes):\n",
      "Stop:Station name\n",
      "Oss    604743.0\n",
      "Name: Total Delay, dtype: float64\n"
     ]
    }
   ],
   "source": [
    "# Station with most delays in time\n",
    "\n",
    "\n",
    "# Group by station and sum delay minutes\n",
    "station_delays = filtered_delays.groupby('Stop:Station name')['Total Delay'].sum()\n",
    "\n",
    "# Sort to find the station with the highest total delay\n",
    "most_delayed_station = station_delays.sort_values(ascending=False)\n",
    "\n",
    "# Display the top station\n",
    "print(\"Most delayed station (by total delay minutes):\")\n",
    "print(most_delayed_station.head(1))\n"
   ]
  },
  {
   "cell_type": "code",
   "execution_count": 29,
   "id": "efd543ca-9198-4c91-80b9-bc26072d4fd8",
   "metadata": {
    "tags": []
   },
   "outputs": [],
   "source": [
    "# Filter the original DataFrame\n",
    "df_top_station = filtered_delays[filtered_delays['Stop:Station name'] == 'Oss']\n"
   ]
  },
  {
   "cell_type": "code",
   "execution_count": 30,
   "id": "5dfe07b3-9d4f-46ba-b747-bc85582c896e",
   "metadata": {
    "tags": []
   },
   "outputs": [],
   "source": [
    "top_delay_df = df_top_station[['Total Delay', 'tmin', 'tmax', 'date', 'wdir', 'wspd', 'prcp', 'pres']]"
   ]
  },
  {
   "cell_type": "code",
   "execution_count": 31,
   "id": "e623cd3c-c1fd-45c0-877a-824371ff423b",
   "metadata": {
    "tags": []
   },
   "outputs": [
    {
     "data": {
      "text/html": [
       "<div>\n",
       "<style scoped>\n",
       "    .dataframe tbody tr th:only-of-type {\n",
       "        vertical-align: middle;\n",
       "    }\n",
       "\n",
       "    .dataframe tbody tr th {\n",
       "        vertical-align: top;\n",
       "    }\n",
       "\n",
       "    .dataframe thead th {\n",
       "        text-align: right;\n",
       "    }\n",
       "</style>\n",
       "<table border=\"1\" class=\"dataframe\">\n",
       "  <thead>\n",
       "    <tr style=\"text-align: right;\">\n",
       "      <th></th>\n",
       "      <th>Total Delay</th>\n",
       "      <th>tmin</th>\n",
       "      <th>tmax</th>\n",
       "      <th>date</th>\n",
       "      <th>wdir</th>\n",
       "      <th>wspd</th>\n",
       "      <th>prcp</th>\n",
       "      <th>pres</th>\n",
       "    </tr>\n",
       "    <tr>\n",
       "      <th>date</th>\n",
       "      <th></th>\n",
       "      <th></th>\n",
       "      <th></th>\n",
       "      <th></th>\n",
       "      <th></th>\n",
       "      <th></th>\n",
       "      <th></th>\n",
       "      <th></th>\n",
       "    </tr>\n",
       "  </thead>\n",
       "  <tbody>\n",
       "    <tr>\n",
       "      <th>2024-01-01</th>\n",
       "      <td>2.0</td>\n",
       "      <td>5.7</td>\n",
       "      <td>8.6</td>\n",
       "      <td>2024-01-01</td>\n",
       "      <td>210.0</td>\n",
       "      <td>24.6</td>\n",
       "      <td>2.3</td>\n",
       "      <td>1001.6</td>\n",
       "    </tr>\n",
       "    <tr>\n",
       "      <th>2024-01-01</th>\n",
       "      <td>0.0</td>\n",
       "      <td>5.7</td>\n",
       "      <td>8.6</td>\n",
       "      <td>2024-01-01</td>\n",
       "      <td>210.0</td>\n",
       "      <td>24.6</td>\n",
       "      <td>2.3</td>\n",
       "      <td>1001.6</td>\n",
       "    </tr>\n",
       "    <tr>\n",
       "      <th>2024-01-01</th>\n",
       "      <td>4.0</td>\n",
       "      <td>5.7</td>\n",
       "      <td>8.6</td>\n",
       "      <td>2024-01-01</td>\n",
       "      <td>210.0</td>\n",
       "      <td>24.6</td>\n",
       "      <td>2.3</td>\n",
       "      <td>1001.6</td>\n",
       "    </tr>\n",
       "    <tr>\n",
       "      <th>2024-01-01</th>\n",
       "      <td>2.0</td>\n",
       "      <td>5.7</td>\n",
       "      <td>8.6</td>\n",
       "      <td>2024-01-01</td>\n",
       "      <td>210.0</td>\n",
       "      <td>24.6</td>\n",
       "      <td>2.3</td>\n",
       "      <td>1001.6</td>\n",
       "    </tr>\n",
       "    <tr>\n",
       "      <th>2024-01-01</th>\n",
       "      <td>0.0</td>\n",
       "      <td>5.7</td>\n",
       "      <td>8.6</td>\n",
       "      <td>2024-01-01</td>\n",
       "      <td>210.0</td>\n",
       "      <td>24.6</td>\n",
       "      <td>2.3</td>\n",
       "      <td>1001.6</td>\n",
       "    </tr>\n",
       "  </tbody>\n",
       "</table>\n",
       "</div>"
      ],
      "text/plain": [
       "            Total Delay  tmin  tmax        date   wdir  wspd  prcp    pres\n",
       "date                                                                      \n",
       "2024-01-01          2.0   5.7   8.6  2024-01-01  210.0  24.6   2.3  1001.6\n",
       "2024-01-01          0.0   5.7   8.6  2024-01-01  210.0  24.6   2.3  1001.6\n",
       "2024-01-01          4.0   5.7   8.6  2024-01-01  210.0  24.6   2.3  1001.6\n",
       "2024-01-01          2.0   5.7   8.6  2024-01-01  210.0  24.6   2.3  1001.6\n",
       "2024-01-01          0.0   5.7   8.6  2024-01-01  210.0  24.6   2.3  1001.6"
      ]
     },
     "execution_count": 31,
     "metadata": {},
     "output_type": "execute_result"
    }
   ],
   "source": [
    "top_delay_df.head()"
   ]
  },
  {
   "cell_type": "code",
   "execution_count": 32,
   "id": "fb32fa04-d43d-4206-93af-487a2a007edc",
   "metadata": {
    "tags": []
   },
   "outputs": [
    {
     "name": "stderr",
     "output_type": "stream",
     "text": [
      "C:\\Users\\polar\\AppData\\Local\\Temp\\ipykernel_28064\\3642761273.py:7: SettingWithCopyWarning: \n",
      "A value is trying to be set on a copy of a slice from a DataFrame.\n",
      "Try using .loc[row_indexer,col_indexer] = value instead\n",
      "\n",
      "See the caveats in the documentation: https://pandas.pydata.org/pandas-docs/stable/user_guide/indexing.html#returning-a-view-versus-a-copy\n",
      "  top_delay_df['date'] = pd.to_datetime(top_delay_df['date'])\n"
     ]
    },
    {
     "data": {
      "image/png": "[encoded data removed]",
      "text/plain": [
       "<Figure size 640x480 with 1 Axes>"
      ]
     },
     "metadata": {},
     "output_type": "display_data"
    }
   ],
   "source": [
    "import pandas as pd\n",
    "import matplotlib.pyplot as plt\n",
    "\n",
    "# Convert the 'timestamp' column to datetime if it's not already\n",
    "top_delay_df['date'] = pd.to_datetime(top_delay_df['date'])\n",
    "\n",
    "# Set the 'timestamp' column as the index\n",
    "top_delay_df.set_index('date', inplace=True)\n",
    "\n",
    "# Resample the data (e.g., to daily frequency)\n",
    "daily_delays = top_delay_df.resample('D').mean()  # 'D' for daily resampling\n",
    "\n",
    "# Plot the resampled data\n",
    "plt.plot(daily_delays.index, daily_delays['Total Delay'])\n",
    "plt.title('Total Delay (Daily Average)')\n",
    "plt.xlabel('Date')\n",
    "plt.ylabel('Total Delay')\n",
    "plt.xticks(rotation=45)\n",
    "plt.show()"
   ]
  },
  {
   "cell_type": "code",
   "execution_count": 178,
   "id": "0782df3a-aafd-4326-8d4b-b4ff1f8b1721",
   "metadata": {
    "tags": []
   },
   "outputs": [],
   "source": [
    "import numpy as np\n",
    "\n",
    "def create_sequences(daily_delays, seq_length, forecast_horizon=30):\n",
    "    X, y = [], []\n",
    "    for i in range(len(daily_delays) - seq_length - forecast_horizon):\n",
    "        # Use iloc to ensure proper index-based slicing\n",
    "        X.append(daily_delays.iloc[i:i + seq_length].values)\n",
    "        y.append(daily_delays.iloc[i + seq_length:i + seq_length + forecast_horizon]['Total Delay'].values)\n",
    "    return np.array(X), np.array(y)\n",
    "\n",
    "# Choose sequence length and forecast horizon\n",
    "seq_length = 60  # Number of past timesteps to use for prediction\n",
    "forecast_horizon = 30  # Number of days to forecast (next 30 days)\n",
    "\n",
    "# Create sequences from the sampled data\n",
    "X_train, y_train = create_sequences(daily_delays, seq_length, forecast_horizon)"
   ]
  },
  {
   "cell_type": "code",
   "execution_count": 179,
   "id": "e9b51b9b-66cf-49b0-89bc-45f310aeceff",
   "metadata": {
    "tags": []
   },
   "outputs": [],
   "source": [
    "from tensorflow.keras.layers import Input, Dense, LayerNormalization, MultiHeadAttention, Dropout\n",
    "from tensorflow.keras.models import Model\n",
    "\n",
    "def transformer_encoder(input_seq, head_size, num_heads, ff_dim, dropout=0.1):\n",
    "    # Multi-head attention layer\n",
    "    attention = MultiHeadAttention(num_heads=num_heads, key_dim=head_size)(input_seq, input_seq)\n",
    "    attention = Dropout(dropout)(attention)\n",
    "    attention = LayerNormalization(epsilon=1e-6)(input_seq + attention)\n",
    "    \n",
    "    # Feed-forward layer\n",
    "    ff = Dense(ff_dim, activation=\"relu\")(attention)\n",
    "    ff = Dropout(dropout)(ff)\n",
    "    ff = Dense(input_seq.shape[-1])(ff)\n",
    "    ff = LayerNormalization(epsilon=1e-6)(attention + ff)\n",
    "    \n",
    "    return ff\n",
    "\n",
    "def build_transformer_model(seq_length, feature_dim, head_size=64, num_heads=4, ff_dim=128, num_layers=2, forecast_horizon=30):\n",
    "    inputs = Input(shape=(seq_length, feature_dim))\n",
    "    \n",
    "    # Add transformer encoder layers\n",
    "    x = inputs\n",
    "    for _ in range(num_layers):\n",
    "        x = transformer_encoder(x, head_size, num_heads, ff_dim)\n",
    "    \n",
    "    # Forecasting layer (fully connected)\n",
    "    output = Dense(forecast_horizon)(x[:, -1, :])  # Using the last timestep for prediction\n",
    "    \n",
    "    model = Model(inputs, output)\n",
    "    model.compile(optimizer=\"adam\", loss=\"mse\")\n",
    "    \n",
    "    return model"
   ]
  },
  {
   "cell_type": "code",
   "execution_count": 180,
   "id": "887cf31b-c3f7-4292-821d-7cc19f63d068",
   "metadata": {
    "tags": []
   },
   "outputs": [
    {
     "name": "stdout",
     "output_type": "stream",
     "text": [
      "Epoch 1/50\n",
      "\u001b[1m7/7\u001b[0m \u001b[32m━━━━━━━━━━━━━━━━━━━━\u001b[0m\u001b[37m\u001b[0m \u001b[1m4s\u001b[0m 88ms/step - loss: 17.5729 - val_loss: 7.4565\n",
      "Epoch 2/50\n",
      "\u001b[1m7/7\u001b[0m \u001b[32m━━━━━━━━━━━━━━━━━━━━\u001b[0m\u001b[37m\u001b[0m \u001b[1m0s\u001b[0m 45ms/step - loss: 15.8965 - val_loss: 7.0239\n",
      "Epoch 3/50\n",
      "\u001b[1m7/7\u001b[0m \u001b[32m━━━━━━━━━━━━━━━━━━━━\u001b[0m\u001b[37m\u001b[0m \u001b[1m0s\u001b[0m 48ms/step - loss: 15.5925 - val_loss: 6.7725\n",
      "Epoch 4/50\n",
      "\u001b[1m7/7\u001b[0m \u001b[32m━━━━━━━━━━━━━━━━━━━━\u001b[0m\u001b[37m\u001b[0m \u001b[1m0s\u001b[0m 43ms/step - loss: 15.1697 - val_loss: 6.5146\n",
      "Epoch 5/50\n",
      "\u001b[1m7/7\u001b[0m \u001b[32m━━━━━━━━━━━━━━━━━━━━\u001b[0m\u001b[37m\u001b[0m \u001b[1m0s\u001b[0m 43ms/step - loss: 14.5318 - val_loss: 6.2658\n",
      "Epoch 6/50\n",
      "\u001b[1m7/7\u001b[0m \u001b[32m━━━━━━━━━━━━━━━━━━━━\u001b[0m\u001b[37m\u001b[0m \u001b[1m0s\u001b[0m 47ms/step - loss: 14.0833 - val_loss: 6.0188\n",
      "Epoch 7/50\n",
      "\u001b[1m7/7\u001b[0m \u001b[32m━━━━━━━━━━━━━━━━━━━━\u001b[0m\u001b[37m\u001b[0m \u001b[1m0s\u001b[0m 44ms/step - loss: 13.8806 - val_loss: 5.7663\n",
      "Epoch 8/50\n",
      "\u001b[1m7/7\u001b[0m \u001b[32m━━━━━━━━━━━━━━━━━━━━\u001b[0m\u001b[37m\u001b[0m \u001b[1m0s\u001b[0m 45ms/step - loss: 13.4437 - val_loss: 5.5114\n",
      "Epoch 9/50\n",
      "\u001b[1m7/7\u001b[0m \u001b[32m━━━━━━━━━━━━━━━━━━━━\u001b[0m\u001b[37m\u001b[0m \u001b[1m0s\u001b[0m 42ms/step - loss: 12.9670 - val_loss: 5.2561\n",
      "Epoch 10/50\n",
      "\u001b[1m7/7\u001b[0m \u001b[32m━━━━━━━━━━━━━━━━━━━━\u001b[0m\u001b[37m\u001b[0m \u001b[1m0s\u001b[0m 43ms/step - loss: 12.3672 - val_loss: 5.0005\n",
      "Epoch 11/50\n",
      "\u001b[1m7/7\u001b[0m \u001b[32m━━━━━━━━━━━━━━━━━━━━\u001b[0m\u001b[37m\u001b[0m \u001b[1m0s\u001b[0m 40ms/step - loss: 12.0646 - val_loss: 4.7500\n",
      "Epoch 12/50\n",
      "\u001b[1m7/7\u001b[0m \u001b[32m━━━━━━━━━━━━━━━━━━━━\u001b[0m\u001b[37m\u001b[0m \u001b[1m0s\u001b[0m 39ms/step - loss: 11.4899 - val_loss: 4.5016\n",
      "Epoch 13/50\n",
      "\u001b[1m7/7\u001b[0m \u001b[32m━━━━━━━━━━━━━━━━━━━━\u001b[0m\u001b[37m\u001b[0m \u001b[1m0s\u001b[0m 38ms/step - loss: 10.8993 - val_loss: 4.2545\n",
      "Epoch 14/50\n",
      "\u001b[1m7/7\u001b[0m \u001b[32m━━━━━━━━━━━━━━━━━━━━\u001b[0m\u001b[37m\u001b[0m \u001b[1m0s\u001b[0m 40ms/step - loss: 10.6426 - val_loss: 4.0130\n",
      "Epoch 15/50\n",
      "\u001b[1m7/7\u001b[0m \u001b[32m━━━━━━━━━━━━━━━━━━━━\u001b[0m\u001b[37m\u001b[0m \u001b[1m0s\u001b[0m 41ms/step - loss: 10.1660 - val_loss: 3.7808\n",
      "Epoch 16/50\n",
      "\u001b[1m7/7\u001b[0m \u001b[32m━━━━━━━━━━━━━━━━━━━━\u001b[0m\u001b[37m\u001b[0m \u001b[1m0s\u001b[0m 39ms/step - loss: 9.6527 - val_loss: 3.5564\n",
      "Epoch 17/50\n",
      "\u001b[1m7/7\u001b[0m \u001b[32m━━━━━━━━━━━━━━━━━━━━\u001b[0m\u001b[37m\u001b[0m \u001b[1m0s\u001b[0m 38ms/step - loss: 9.2971 - val_loss: 3.3390\n",
      "Epoch 18/50\n",
      "\u001b[1m7/7\u001b[0m \u001b[32m━━━━━━━━━━━━━━━━━━━━\u001b[0m\u001b[37m\u001b[0m \u001b[1m0s\u001b[0m 42ms/step - loss: 8.6930 - val_loss: 3.1347\n",
      "Epoch 19/50\n",
      "\u001b[1m7/7\u001b[0m \u001b[32m━━━━━━━━━━━━━━━━━━━━\u001b[0m\u001b[37m\u001b[0m \u001b[1m0s\u001b[0m 38ms/step - loss: 8.3891 - val_loss: 2.9408\n",
      "Epoch 20/50\n",
      "\u001b[1m7/7\u001b[0m \u001b[32m━━━━━━━━━━━━━━━━━━━━\u001b[0m\u001b[37m\u001b[0m \u001b[1m0s\u001b[0m 40ms/step - loss: 7.9090 - val_loss: 2.7605\n",
      "Epoch 21/50\n",
      "\u001b[1m7/7\u001b[0m \u001b[32m━━━━━━━━━━━━━━━━━━━━\u001b[0m\u001b[37m\u001b[0m \u001b[1m0s\u001b[0m 39ms/step - loss: 7.4687 - val_loss: 2.5929\n",
      "Epoch 22/50\n",
      "\u001b[1m7/7\u001b[0m \u001b[32m━━━━━━━━━━━━━━━━━━━━\u001b[0m\u001b[37m\u001b[0m \u001b[1m0s\u001b[0m 42ms/step - loss: 7.0887 - val_loss: 2.4370\n",
      "Epoch 23/50\n",
      "\u001b[1m7/7\u001b[0m \u001b[32m━━━━━━━━━━━━━━━━━━━━\u001b[0m\u001b[37m\u001b[0m \u001b[1m0s\u001b[0m 39ms/step - loss: 6.6266 - val_loss: 2.2967\n",
      "Epoch 24/50\n",
      "\u001b[1m7/7\u001b[0m \u001b[32m━━━━━━━━━━━━━━━━━━━━\u001b[0m\u001b[37m\u001b[0m \u001b[1m0s\u001b[0m 38ms/step - loss: 6.1982 - val_loss: 2.1713\n",
      "Epoch 25/50\n",
      "\u001b[1m7/7\u001b[0m \u001b[32m━━━━━━━━━━━━━━━━━━━━\u001b[0m\u001b[37m\u001b[0m \u001b[1m0s\u001b[0m 40ms/step - loss: 5.8701 - val_loss: 2.0592\n",
      "Epoch 26/50\n",
      "\u001b[1m7/7\u001b[0m \u001b[32m━━━━━━━━━━━━━━━━━━━━\u001b[0m\u001b[37m\u001b[0m \u001b[1m0s\u001b[0m 43ms/step - loss: 5.5605 - val_loss: 1.9615\n",
      "Epoch 27/50\n",
      "\u001b[1m7/7\u001b[0m \u001b[32m━━━━━━━━━━━━━━━━━━━━\u001b[0m\u001b[37m\u001b[0m \u001b[1m0s\u001b[0m 39ms/step - loss: 5.1564 - val_loss: 1.8769\n",
      "Epoch 28/50\n",
      "\u001b[1m7/7\u001b[0m \u001b[32m━━━━━━━━━━━━━━━━━━━━\u001b[0m\u001b[37m\u001b[0m \u001b[1m0s\u001b[0m 40ms/step - loss: 4.8620 - val_loss: 1.8089\n",
      "Epoch 29/50\n",
      "\u001b[1m7/7\u001b[0m \u001b[32m━━━━━━━━━━━━━━━━━━━━\u001b[0m\u001b[37m\u001b[0m \u001b[1m0s\u001b[0m 38ms/step - loss: 4.5910 - val_loss: 1.7517\n",
      "Epoch 30/50\n",
      "\u001b[1m7/7\u001b[0m \u001b[32m━━━━━━━━━━━━━━━━━━━━\u001b[0m\u001b[37m\u001b[0m \u001b[1m0s\u001b[0m 41ms/step - loss: 4.2699 - val_loss: 1.7103\n",
      "Epoch 31/50\n",
      "\u001b[1m7/7\u001b[0m \u001b[32m━━━━━━━━━━━━━━━━━━━━\u001b[0m\u001b[37m\u001b[0m \u001b[1m0s\u001b[0m 39ms/step - loss: 3.9562 - val_loss: 1.6774\n",
      "Epoch 32/50\n",
      "\u001b[1m7/7\u001b[0m \u001b[32m━━━━━━━━━━━━━━━━━━━━\u001b[0m\u001b[37m\u001b[0m \u001b[1m0s\u001b[0m 41ms/step - loss: 3.7253 - val_loss: 1.6613\n",
      "Epoch 33/50\n",
      "\u001b[1m7/7\u001b[0m \u001b[32m━━━━━━━━━━━━━━━━━━━━\u001b[0m\u001b[37m\u001b[0m \u001b[1m0s\u001b[0m 39ms/step - loss: 3.5132 - val_loss: 1.6514\n",
      "Epoch 34/50\n",
      "\u001b[1m7/7\u001b[0m \u001b[32m━━━━━━━━━━━━━━━━━━━━\u001b[0m\u001b[37m\u001b[0m \u001b[1m0s\u001b[0m 41ms/step - loss: 3.3360 - val_loss: 1.6569\n",
      "Epoch 35/50\n",
      "\u001b[1m7/7\u001b[0m \u001b[32m━━━━━━━━━━━━━━━━━━━━\u001b[0m\u001b[37m\u001b[0m \u001b[1m0s\u001b[0m 40ms/step - loss: 3.0806 - val_loss: 1.6689\n",
      "Epoch 36/50\n",
      "\u001b[1m7/7\u001b[0m \u001b[32m━━━━━━━━━━━━━━━━━━━━\u001b[0m\u001b[37m\u001b[0m \u001b[1m0s\u001b[0m 39ms/step - loss: 2.9114 - val_loss: 1.6882\n",
      "Epoch 37/50\n",
      "\u001b[1m7/7\u001b[0m \u001b[32m━━━━━━━━━━━━━━━━━━━━\u001b[0m\u001b[37m\u001b[0m \u001b[1m0s\u001b[0m 39ms/step - loss: 2.6989 - val_loss: 1.7145\n",
      "Epoch 38/50\n",
      "\u001b[1m7/7\u001b[0m \u001b[32m━━━━━━━━━━━━━━━━━━━━\u001b[0m\u001b[37m\u001b[0m \u001b[1m0s\u001b[0m 41ms/step - loss: 2.5465 - val_loss: 1.7520\n",
      "\n",
      "✅ Final Training Loss: 3.3370\n",
      "✅ Final Validation Loss: 1.6514\n"
     ]
    }
   ],
   "source": [
    "from sklearn.model_selection import train_test_split\n",
    "from tensorflow.keras.callbacks import EarlyStopping\n",
    "\n",
    "# Define parameters\n",
    "seq_length = 60\n",
    "forecast_horizon = 30\n",
    "feature_dim = 7\n",
    "\n",
    "# Create sequences\n",
    "X, y = create_sequences(daily_delays, seq_length, forecast_horizon)\n",
    "\n",
    "# Manually split into train and validation sets\n",
    "X_train, X_val, y_train, y_val = train_test_split(X, y, test_size=0.2, shuffle=False)\n",
    "\n",
    "# Build the model\n",
    "model = build_transformer_model(seq_length, feature_dim, forecast_horizon=forecast_horizon)\n",
    "\n",
    "# EarlyStopping\n",
    "early_stopping = EarlyStopping(monitor='val_loss', patience=5, restore_best_weights=True)\n",
    "\n",
    "# Train the model\n",
    "model.fit(X_train, y_train,\n",
    "          epochs=50,\n",
    "          batch_size=32,\n",
    "          validation_data=(X_val, y_val),\n",
    "          callbacks=[early_stopping])\n",
    "\n",
    "# Evaluate final score on both sets\n",
    "train_score = model.evaluate(X_train, y_train, verbose=0)\n",
    "val_score = model.evaluate(X_val, y_val, verbose=0)\n",
    "\n",
    "print(f\"\\n✅ Final Training Loss: {train_score:.4f}\")\n",
    "print(f\"✅ Final Validation Loss: {val_score:.4f}\")\n"
   ]
  },
  {
   "cell_type": "code",
   "execution_count": 132,
   "id": "6c41a97c-3bdf-4b9f-8925-1da860902b15",
   "metadata": {
    "tags": []
   },
   "outputs": [
    {
     "name": "stdout",
     "output_type": "stream",
     "text": [
      "WARNING:tensorflow:6 out of the last 6 calls to <function TensorFlowTrainer.make_predict_function.<locals>.one_step_on_data_distributed at 0x000002CE8761D260> triggered tf.function retracing. Tracing is expensive and the excessive number of tracings could be due to (1) creating @tf.function repeatedly in a loop, (2) passing tensors with different shapes, (3) passing Python objects instead of tensors. For (1), please define your @tf.function outside of the loop. For (2), @tf.function has reduce_retracing=True option that can avoid unnecessary retracing. For (3), please refer to https://www.tensorflow.org/guide/function#controlling_retracing and https://www.tensorflow.org/api_docs/python/tf/function for  more details.\n",
      "\u001b[1m1/1\u001b[0m \u001b[32m━━━━━━━━━━━━━━━━━━━━\u001b[0m\u001b[37m\u001b[0m \u001b[1m0s\u001b[0m 203ms/step\n",
      "[[2.5399494 3.6008518 2.7700222 3.0098217 2.9764762 1.6048377 2.6810887\n",
      "  3.439536  2.2946281 2.5089536 2.9816506 1.6891001 2.7575474 3.8539488\n",
      "  3.417276  2.624653  2.0621645 4.029093  2.4051788 3.2853127 2.997323\n",
      "  1.834965  3.361016  3.582143  1.9171469 3.400331  2.2545693 2.1432781\n",
      "  3.3389237 1.993613 ]]\n"
     ]
    }
   ],
   "source": [
    "# Change the input sequence to match the expected shape (335 timesteps)\n",
    "input_sequence = daily_delays.iloc[-60:].values.reshape(1, 60, 7)  # Last 60 days of data with 7 features\n",
    "\n",
    "# Predict the delays for the next 30 days\n",
    "predicted_delays = model.predict(input_sequence)\n",
    "print(predicted_delays)"
   ]
  },
  {
   "cell_type": "code",
   "execution_count": 181,
   "id": "49d0d5b0-265f-4b86-81b2-d801fd57c482",
   "metadata": {
    "tags": []
   },
   "outputs": [
    {
     "name": "stdout",
     "output_type": "stream",
     "text": [
      "Most delayed station (by total delay minutes):\n",
      "Service:Train number\n",
      "6625    44932.0\n",
      "Name: Total Delay, dtype: float64\n"
     ]
    }
   ],
   "source": [
    "# Station with most delays in time\n",
    "\n",
    "\n",
    "# Group by station and sum delay minutes\n",
    "station_delays = filtered_delays.groupby('Service:Train number')['Total Delay'].sum()\n",
    "\n",
    "# Sort to find the station with the highest total delay\n",
    "most_delayed_station = station_delays.sort_values(ascending=False)\n",
    "\n",
    "# Display the top station\n",
    "print(\"Most delayed station (by total delay minutes):\")\n",
    "print(most_delayed_station.head(1))"
   ]
  },
  {
   "cell_type": "code",
   "execution_count": 182,
   "id": "47627b6a-1ca9-4df4-b74e-7819ebae8354",
   "metadata": {
    "tags": []
   },
   "outputs": [],
   "source": [
    "# Filter the original DataFrame\n",
    "df_top_train = filtered_delays[filtered_delays['Service:Train number'] == 6625]"
   ]
  },
  {
   "cell_type": "code",
   "execution_count": 183,
   "id": "2af152ed-7578-4191-8592-97757dbe785c",
   "metadata": {
    "tags": []
   },
   "outputs": [],
   "source": [
    "top_delay_df = df_top_train[['Total Delay', 'tmin', 'tmax', 'date', 'wdir', 'wspd', 'prcp', 'pres']]"
   ]
  },
  {
   "cell_type": "code",
   "execution_count": 184,
   "id": "98b6b717-0859-4c5f-b4fb-a37e0d9db552",
   "metadata": {
    "tags": []
   },
   "outputs": [
    {
     "name": "stdout",
     "output_type": "stream",
     "text": [
      "<class 'pandas.core.frame.DataFrame'>\n",
      "Index: 12523 entries, 2024-01-02 to 2024-10-26\n",
      "Data columns (total 8 columns):\n",
      " #   Column       Non-Null Count  Dtype  \n",
      "---  ------       --------------  -----  \n",
      " 0   Total Delay  12523 non-null  float64\n",
      " 1   tmin         12523 non-null  float64\n",
      " 2   tmax         12523 non-null  float64\n",
      " 3   date         12523 non-null  object \n",
      " 4   wdir         12523 non-null  float64\n",
      " 5   wspd         12523 non-null  float64\n",
      " 6   prcp         12523 non-null  float64\n",
      " 7   pres         12523 non-null  float64\n",
      "dtypes: float64(7), object(1)\n",
      "memory usage: 880.5+ KB\n"
     ]
    }
   ],
   "source": [
    "top_delay_df.info()"
   ]
  },
  {
   "cell_type": "code",
   "execution_count": 185,
   "id": "b970631e-1750-4a04-afeb-86a623db775b",
   "metadata": {
    "tags": []
   },
   "outputs": [
    {
     "name": "stderr",
     "output_type": "stream",
     "text": [
      "C:\\Users\\polar\\AppData\\Local\\Temp\\ipykernel_6188\\3642761273.py:7: SettingWithCopyWarning: \n",
      "A value is trying to be set on a copy of a slice from a DataFrame.\n",
      "Try using .loc[row_indexer,col_indexer] = value instead\n",
      "\n",
      "See the caveats in the documentation: https://pandas.pydata.org/pandas-docs/stable/user_guide/indexing.html#returning-a-view-versus-a-copy\n",
      "  top_delay_df['date'] = pd.to_datetime(top_delay_df['date'])\n"
     ]
    },
    {
     "data": {
      "image/png": "[encoded data removed]",
      "text/plain": [
       "<Figure size 640x480 with 1 Axes>"
      ]
     },
     "metadata": {},
     "output_type": "display_data"
    }
   ],
   "source": [
    "import pandas as pd\n",
    "import matplotlib.pyplot as plt\n",
    "\n",
    "# Convert the 'timestamp' column to datetime if it's not already\n",
    "top_delay_df['date'] = pd.to_datetime(top_delay_df['date'])\n",
    "\n",
    "# Set the 'timestamp' column as the index\n",
    "top_delay_df.set_index('date', inplace=True)\n",
    "\n",
    "# Resample the data (e.g., to daily frequency)\n",
    "daily_delays = top_delay_df.resample('D').mean()  # 'D' for daily resampling\n",
    "\n",
    "# Plot the resampled data\n",
    "plt.plot(daily_delays.index, daily_delays['Total Delay'])\n",
    "plt.title('Total Delay (Daily Average)')\n",
    "plt.xlabel('Date')\n",
    "plt.ylabel('Total Delay')\n",
    "plt.xticks(rotation=45)\n",
    "plt.show()"
   ]
  },
  {
   "cell_type": "code",
   "execution_count": 186,
   "id": "6526f634-1142-434b-8275-820a97992c57",
   "metadata": {
    "tags": []
   },
   "outputs": [
    {
     "name": "stderr",
     "output_type": "stream",
     "text": [
      "C:\\Users\\polar\\AppData\\Local\\Temp\\ipykernel_6188\\990807587.py:1: FutureWarning: DataFrame.fillna with 'method' is deprecated and will raise in a future version. Use obj.ffill() or obj.bfill() instead.\n",
      "  daily_delays = daily_delays.fillna(method='ffill')\n"
     ]
    }
   ],
   "source": [
    "daily_delays = daily_delays.fillna(method='ffill')"
   ]
  },
  {
   "cell_type": "code",
   "execution_count": 187,
   "id": "9ac32f9a-90b7-4806-ac8a-7ffe43e2d05b",
   "metadata": {
    "tags": []
   },
   "outputs": [
    {
     "name": "stdout",
     "output_type": "stream",
     "text": [
      "Total NaNs in DataFrame: 0\n"
     ]
    }
   ],
   "source": [
    "total_nans = daily_delays.isna().sum().sum()\n",
    "print(f\"Total NaNs in DataFrame: {total_nans}\")\n"
   ]
  },
  {
   "cell_type": "code",
   "execution_count": 194,
   "id": "6edbcef7-0378-4351-a582-5bd3e73067db",
   "metadata": {
    "tags": []
   },
   "outputs": [],
   "source": [
    "import numpy as np\n",
    "\n",
    "def create_sequences(daily_delays, seq_length, forecast_horizon=30):\n",
    "    X, y = [], []\n",
    "    for i in range(len(daily_delays) - seq_length - forecast_horizon):\n",
    "        # Use iloc to ensure proper index-based slicing\n",
    "        X.append(daily_delays.iloc[i:i + seq_length].values)\n",
    "        y.append(daily_delays.iloc[i + seq_length:i + seq_length + forecast_horizon]['Total Delay'].values)\n",
    "    return np.array(X), np.array(y)\n",
    "\n",
    "# Choose sequence length and forecast horizon\n",
    "seq_length = 60  # Number of past timesteps to use for prediction\n",
    "forecast_horizon = 30  # Number of days to forecast (next 30 days)\n",
    "\n",
    "# Create sequences from the sampled data\n",
    "X_train, y_train = create_sequences(daily_delays, seq_length, forecast_horizon)"
   ]
  },
  {
   "cell_type": "code",
   "execution_count": 195,
   "id": "c8b5187e-22e4-4c7e-a33b-24ab713e501f",
   "metadata": {
    "tags": []
   },
   "outputs": [],
   "source": [
    "from tensorflow.keras.layers import Input, Dense, LayerNormalization, MultiHeadAttention, Dropout\n",
    "from tensorflow.keras.models import Model\n",
    "\n",
    "def transformer_encoder(input_seq, head_size, num_heads, ff_dim, dropout=0.1):\n",
    "    # Multi-head attention layer\n",
    "    attention = MultiHeadAttention(num_heads=num_heads, key_dim=head_size)(input_seq, input_seq)\n",
    "    attention = Dropout(dropout)(attention)\n",
    "    attention = LayerNormalization(epsilon=1e-6)(input_seq + attention)\n",
    "    \n",
    "    # Feed-forward layer\n",
    "    ff = Dense(ff_dim, activation=\"relu\")(attention)\n",
    "    ff = Dropout(dropout)(ff)\n",
    "    ff = Dense(input_seq.shape[-1])(ff)\n",
    "    ff = LayerNormalization(epsilon=1e-6)(attention + ff)\n",
    "    \n",
    "    return ff\n",
    "\n",
    "def build_transformer_model(seq_length, feature_dim, head_size=64, num_heads=4, ff_dim=248, num_layers=2, forecast_horizon=30):\n",
    "    inputs = Input(shape=(seq_length, feature_dim))\n",
    "    \n",
    "    # Add transformer encoder layers\n",
    "    x = inputs\n",
    "    for _ in range(num_layers):\n",
    "        x = transformer_encoder(x, head_size, num_heads, ff_dim)\n",
    "    \n",
    "    # Forecasting layer (fully connected)\n",
    "    output = Dense(forecast_horizon)(x[:, -1, :])  # Using the last timestep for prediction\n",
    "    \n",
    "    model = Model(inputs, output)\n",
    "    model.compile(optimizer=\"adam\", loss=\"mse\")\n",
    "    \n",
    "    return model"
   ]
  },
  {
   "cell_type": "code",
   "execution_count": 196,
   "id": "c603fdeb-741c-4e2f-9185-bf065c7b69b2",
   "metadata": {
    "tags": []
   },
   "outputs": [
    {
     "name": "stdout",
     "output_type": "stream",
     "text": [
      "Epoch 1/50\n",
      "\u001b[1m7/7\u001b[0m \u001b[32m━━━━━━━━━━━━━━━━━━━━\u001b[0m\u001b[37m\u001b[0m \u001b[1m4s\u001b[0m 81ms/step - loss: 23.6443 - val_loss: 21.7951\n",
      "Epoch 2/50\n",
      "\u001b[1m7/7\u001b[0m \u001b[32m━━━━━━━━━━━━━━━━━━━━\u001b[0m\u001b[37m\u001b[0m \u001b[1m0s\u001b[0m 45ms/step - loss: 20.1242 - val_loss: 20.9900\n",
      "Epoch 3/50\n",
      "\u001b[1m7/7\u001b[0m \u001b[32m━━━━━━━━━━━━━━━━━━━━\u001b[0m\u001b[37m\u001b[0m \u001b[1m0s\u001b[0m 47ms/step - loss: 20.3022 - val_loss: 20.7775\n",
      "Epoch 4/50\n",
      "\u001b[1m7/7\u001b[0m \u001b[32m━━━━━━━━━━━━━━━━━━━━\u001b[0m\u001b[37m\u001b[0m \u001b[1m0s\u001b[0m 49ms/step - loss: 19.5247 - val_loss: 20.5025\n",
      "Epoch 5/50\n",
      "\u001b[1m7/7\u001b[0m \u001b[32m━━━━━━━━━━━━━━━━━━━━\u001b[0m\u001b[37m\u001b[0m \u001b[1m0s\u001b[0m 46ms/step - loss: 19.4446 - val_loss: 20.1733\n",
      "Epoch 6/50\n",
      "\u001b[1m7/7\u001b[0m \u001b[32m━━━━━━━━━━━━━━━━━━━━\u001b[0m\u001b[37m\u001b[0m \u001b[1m0s\u001b[0m 48ms/step - loss: 19.1809 - val_loss: 19.8650\n",
      "Epoch 7/50\n",
      "\u001b[1m7/7\u001b[0m \u001b[32m━━━━━━━━━━━━━━━━━━━━\u001b[0m\u001b[37m\u001b[0m \u001b[1m0s\u001b[0m 46ms/step - loss: 19.8604 - val_loss: 19.5653\n",
      "Epoch 8/50\n",
      "\u001b[1m7/7\u001b[0m \u001b[32m━━━━━━━━━━━━━━━━━━━━\u001b[0m\u001b[37m\u001b[0m \u001b[1m0s\u001b[0m 48ms/step - loss: 18.7527 - val_loss: 19.2666\n",
      "Epoch 9/50\n",
      "\u001b[1m7/7\u001b[0m \u001b[32m━━━━━━━━━━━━━━━━━━━━\u001b[0m\u001b[37m\u001b[0m \u001b[1m0s\u001b[0m 66ms/step - loss: 18.6989 - val_loss: 18.9630\n",
      "Epoch 10/50\n",
      "\u001b[1m7/7\u001b[0m \u001b[32m━━━━━━━━━━━━━━━━━━━━\u001b[0m\u001b[37m\u001b[0m \u001b[1m0s\u001b[0m 46ms/step - loss: 17.5105 - val_loss: 18.6539\n",
      "Epoch 11/50\n",
      "\u001b[1m7/7\u001b[0m \u001b[32m━━━━━━━━━━━━━━━━━━━━\u001b[0m\u001b[37m\u001b[0m \u001b[1m0s\u001b[0m 47ms/step - loss: 18.3072 - val_loss: 18.3362\n",
      "Epoch 12/50\n",
      "\u001b[1m7/7\u001b[0m \u001b[32m━━━━━━━━━━━━━━━━━━━━\u001b[0m\u001b[37m\u001b[0m \u001b[1m0s\u001b[0m 49ms/step - loss: 17.4975 - val_loss: 18.0188\n",
      "Epoch 13/50\n",
      "\u001b[1m7/7\u001b[0m \u001b[32m━━━━━━━━━━━━━━━━━━━━\u001b[0m\u001b[37m\u001b[0m \u001b[1m0s\u001b[0m 49ms/step - loss: 17.3195 - val_loss: 17.7072\n",
      "Epoch 14/50\n",
      "\u001b[1m7/7\u001b[0m \u001b[32m━━━━━━━━━━━━━━━━━━━━\u001b[0m\u001b[37m\u001b[0m \u001b[1m0s\u001b[0m 47ms/step - loss: 17.3271 - val_loss: 17.3868\n",
      "Epoch 15/50\n",
      "\u001b[1m7/7\u001b[0m \u001b[32m━━━━━━━━━━━━━━━━━━━━\u001b[0m\u001b[37m\u001b[0m \u001b[1m0s\u001b[0m 47ms/step - loss: 16.8991 - val_loss: 17.0639\n",
      "Epoch 16/50\n",
      "\u001b[1m7/7\u001b[0m \u001b[32m━━━━━━━━━━━━━━━━━━━━\u001b[0m\u001b[37m\u001b[0m \u001b[1m0s\u001b[0m 54ms/step - loss: 16.1956 - val_loss: 16.7464\n",
      "Epoch 17/50\n",
      "\u001b[1m7/7\u001b[0m \u001b[32m━━━━━━━━━━━━━━━━━━━━\u001b[0m\u001b[37m\u001b[0m \u001b[1m0s\u001b[0m 56ms/step - loss: 16.4309 - val_loss: 16.4316\n",
      "Epoch 18/50\n",
      "\u001b[1m7/7\u001b[0m \u001b[32m━━━━━━━━━━━━━━━━━━━━\u001b[0m\u001b[37m\u001b[0m \u001b[1m0s\u001b[0m 50ms/step - loss: 16.3091 - val_loss: 16.1162\n",
      "Epoch 19/50\n",
      "\u001b[1m7/7\u001b[0m \u001b[32m━━━━━━━━━━━━━━━━━━━━\u001b[0m\u001b[37m\u001b[0m \u001b[1m0s\u001b[0m 50ms/step - loss: 15.2412 - val_loss: 15.8091\n",
      "Epoch 20/50\n",
      "\u001b[1m7/7\u001b[0m \u001b[32m━━━━━━━━━━━━━━━━━━━━\u001b[0m\u001b[37m\u001b[0m \u001b[1m0s\u001b[0m 54ms/step - loss: 14.4824 - val_loss: 15.5090\n",
      "Epoch 21/50\n",
      "\u001b[1m7/7\u001b[0m \u001b[32m━━━━━━━━━━━━━━━━━━━━\u001b[0m\u001b[37m\u001b[0m \u001b[1m0s\u001b[0m 49ms/step - loss: 15.0081 - val_loss: 15.2132\n",
      "Epoch 22/50\n",
      "\u001b[1m7/7\u001b[0m \u001b[32m━━━━━━━━━━━━━━━━━━━━\u001b[0m\u001b[37m\u001b[0m \u001b[1m0s\u001b[0m 52ms/step - loss: 14.4637 - val_loss: 14.9185\n",
      "Epoch 23/50\n",
      "\u001b[1m7/7\u001b[0m \u001b[32m━━━━━━━━━━━━━━━━━━━━\u001b[0m\u001b[37m\u001b[0m \u001b[1m0s\u001b[0m 52ms/step - loss: 14.4460 - val_loss: 14.6401\n",
      "Epoch 24/50\n",
      "\u001b[1m7/7\u001b[0m \u001b[32m━━━━━━━━━━━━━━━━━━━━\u001b[0m\u001b[37m\u001b[0m \u001b[1m0s\u001b[0m 51ms/step - loss: 14.5224 - val_loss: 14.3698\n",
      "Epoch 25/50\n",
      "\u001b[1m7/7\u001b[0m \u001b[32m━━━━━━━━━━━━━━━━━━━━\u001b[0m\u001b[37m\u001b[0m \u001b[1m0s\u001b[0m 50ms/step - loss: 14.3539 - val_loss: 14.1063\n",
      "Epoch 26/50\n",
      "\u001b[1m7/7\u001b[0m \u001b[32m━━━━━━━━━━━━━━━━━━━━\u001b[0m\u001b[37m\u001b[0m \u001b[1m0s\u001b[0m 52ms/step - loss: 13.6524 - val_loss: 13.8552\n",
      "Epoch 27/50\n",
      "\u001b[1m7/7\u001b[0m \u001b[32m━━━━━━━━━━━━━━━━━━━━\u001b[0m\u001b[37m\u001b[0m \u001b[1m0s\u001b[0m 51ms/step - loss: 13.2997 - val_loss: 13.6133\n",
      "Epoch 28/50\n",
      "\u001b[1m7/7\u001b[0m \u001b[32m━━━━━━━━━━━━━━━━━━━━\u001b[0m\u001b[37m\u001b[0m \u001b[1m0s\u001b[0m 50ms/step - loss: 12.8596 - val_loss: 13.3894\n",
      "Epoch 29/50\n",
      "\u001b[1m7/7\u001b[0m \u001b[32m━━━━━━━━━━━━━━━━━━━━\u001b[0m\u001b[37m\u001b[0m \u001b[1m0s\u001b[0m 48ms/step - loss: 13.1083 - val_loss: 13.1705\n",
      "Epoch 30/50\n",
      "\u001b[1m7/7\u001b[0m \u001b[32m━━━━━━━━━━━━━━━━━━━━\u001b[0m\u001b[37m\u001b[0m \u001b[1m0s\u001b[0m 47ms/step - loss: 12.7992 - val_loss: 12.9611\n",
      "Epoch 31/50\n",
      "\u001b[1m7/7\u001b[0m \u001b[32m━━━━━━━━━━━━━━━━━━━━\u001b[0m\u001b[37m\u001b[0m \u001b[1m0s\u001b[0m 48ms/step - loss: 12.4613 - val_loss: 12.7660\n",
      "Epoch 32/50\n",
      "\u001b[1m7/7\u001b[0m \u001b[32m━━━━━━━━━━━━━━━━━━━━\u001b[0m\u001b[37m\u001b[0m \u001b[1m0s\u001b[0m 50ms/step - loss: 12.3129 - val_loss: 12.5786\n",
      "Epoch 33/50\n",
      "\u001b[1m7/7\u001b[0m \u001b[32m━━━━━━━━━━━━━━━━━━━━\u001b[0m\u001b[37m\u001b[0m \u001b[1m0s\u001b[0m 48ms/step - loss: 11.9341 - val_loss: 12.4137\n",
      "Epoch 34/50\n",
      "\u001b[1m7/7\u001b[0m \u001b[32m━━━━━━━━━━━━━━━━━━━━\u001b[0m\u001b[37m\u001b[0m \u001b[1m0s\u001b[0m 49ms/step - loss: 11.9922 - val_loss: 12.2554\n",
      "Epoch 35/50\n",
      "\u001b[1m7/7\u001b[0m \u001b[32m━━━━━━━━━━━━━━━━━━━━\u001b[0m\u001b[37m\u001b[0m \u001b[1m0s\u001b[0m 48ms/step - loss: 11.9815 - val_loss: 12.0958\n",
      "Epoch 36/50\n",
      "\u001b[1m7/7\u001b[0m \u001b[32m━━━━━━━━━━━━━━━━━━━━\u001b[0m\u001b[37m\u001b[0m \u001b[1m0s\u001b[0m 47ms/step - loss: 11.6312 - val_loss: 11.9548\n",
      "Epoch 37/50\n",
      "\u001b[1m7/7\u001b[0m \u001b[32m━━━━━━━━━━━━━━━━━━━━\u001b[0m\u001b[37m\u001b[0m \u001b[1m0s\u001b[0m 46ms/step - loss: 11.6031 - val_loss: 11.8288\n",
      "Epoch 38/50\n",
      "\u001b[1m7/7\u001b[0m \u001b[32m━━━━━━━━━━━━━━━━━━━━\u001b[0m\u001b[37m\u001b[0m \u001b[1m0s\u001b[0m 46ms/step - loss: 11.5536 - val_loss: 11.7101\n",
      "Epoch 39/50\n",
      "\u001b[1m7/7\u001b[0m \u001b[32m━━━━━━━━━━━━━━━━━━━━\u001b[0m\u001b[37m\u001b[0m \u001b[1m0s\u001b[0m 49ms/step - loss: 11.6591 - val_loss: 11.5925\n",
      "Epoch 40/50\n",
      "\u001b[1m7/7\u001b[0m \u001b[32m━━━━━━━━━━━━━━━━━━━━\u001b[0m\u001b[37m\u001b[0m \u001b[1m0s\u001b[0m 51ms/step - loss: 11.1265 - val_loss: 11.4923\n",
      "Epoch 41/50\n",
      "\u001b[1m7/7\u001b[0m \u001b[32m━━━━━━━━━━━━━━━━━━━━\u001b[0m\u001b[37m\u001b[0m \u001b[1m0s\u001b[0m 46ms/step - loss: 10.7555 - val_loss: 11.3988\n",
      "Epoch 42/50\n",
      "\u001b[1m7/7\u001b[0m \u001b[32m━━━━━━━━━━━━━━━━━━━━\u001b[0m\u001b[37m\u001b[0m \u001b[1m0s\u001b[0m 48ms/step - loss: 10.4485 - val_loss: 11.3107\n",
      "Epoch 43/50\n",
      "\u001b[1m7/7\u001b[0m \u001b[32m━━━━━━━━━━━━━━━━━━━━\u001b[0m\u001b[37m\u001b[0m \u001b[1m0s\u001b[0m 46ms/step - loss: 10.7257 - val_loss: 11.2317\n",
      "Epoch 44/50\n",
      "\u001b[1m7/7\u001b[0m \u001b[32m━━━━━━━━━━━━━━━━━━━━\u001b[0m\u001b[37m\u001b[0m \u001b[1m0s\u001b[0m 48ms/step - loss: 10.5347 - val_loss: 11.1621\n",
      "Epoch 45/50\n",
      "\u001b[1m7/7\u001b[0m \u001b[32m━━━━━━━━━━━━━━━━━━━━\u001b[0m\u001b[37m\u001b[0m \u001b[1m0s\u001b[0m 48ms/step - loss: 10.5608 - val_loss: 11.0975\n",
      "Epoch 46/50\n",
      "\u001b[1m7/7\u001b[0m \u001b[32m━━━━━━━━━━━━━━━━━━━━\u001b[0m\u001b[37m\u001b[0m \u001b[1m0s\u001b[0m 48ms/step - loss: 10.1043 - val_loss: 11.0370\n",
      "Epoch 47/50\n",
      "\u001b[1m7/7\u001b[0m \u001b[32m━━━━━━━━━━━━━━━━━━━━\u001b[0m\u001b[37m\u001b[0m \u001b[1m0s\u001b[0m 49ms/step - loss: 10.5510 - val_loss: 10.9858\n",
      "Epoch 48/50\n",
      "\u001b[1m7/7\u001b[0m \u001b[32m━━━━━━━━━━━━━━━━━━━━\u001b[0m\u001b[37m\u001b[0m \u001b[1m0s\u001b[0m 48ms/step - loss: 10.7449 - val_loss: 10.9303\n",
      "Epoch 49/50\n",
      "\u001b[1m7/7\u001b[0m \u001b[32m━━━━━━━━━━━━━━━━━━━━\u001b[0m\u001b[37m\u001b[0m \u001b[1m0s\u001b[0m 48ms/step - loss: 11.0630 - val_loss: 10.8889\n",
      "Epoch 50/50\n",
      "\u001b[1m7/7\u001b[0m \u001b[32m━━━━━━━━━━━━━━━━━━━━\u001b[0m\u001b[37m\u001b[0m \u001b[1m0s\u001b[0m 47ms/step - loss: 10.7732 - val_loss: 10.8522\n",
      "\n",
      "✅ Final Training Loss: 10.5083\n",
      "✅ Final Validation Loss: 10.8522\n"
     ]
    }
   ],
   "source": [
    "from sklearn.model_selection import train_test_split\n",
    "from tensorflow.keras.callbacks import EarlyStopping\n",
    "\n",
    "# Define parameters\n",
    "seq_length = 60\n",
    "forecast_horizon = 30\n",
    "feature_dim = 7\n",
    "\n",
    "# Create sequences\n",
    "X, y = create_sequences(daily_delays, seq_length, forecast_horizon)\n",
    "\n",
    "# Manually split into train and validation sets\n",
    "X_train, X_val, y_train, y_val = train_test_split(X, y, test_size=0.2, shuffle=False)\n",
    "\n",
    "# Build the model\n",
    "model = build_transformer_model(seq_length, feature_dim, forecast_horizon=forecast_horizon)\n",
    "\n",
    "# EarlyStopping\n",
    "early_stopping = EarlyStopping(monitor='val_loss', patience=5, restore_best_weights=True)\n",
    "\n",
    "# Train the model\n",
    "model.fit(X_train, y_train,\n",
    "          epochs=50,\n",
    "          batch_size=32,\n",
    "          validation_data=(X_val, y_val),\n",
    "          callbacks=[early_stopping])\n",
    "\n",
    "# Evaluate final score on both sets\n",
    "train_score = model.evaluate(X_train, y_train, verbose=0)\n",
    "val_score = model.evaluate(X_val, y_val, verbose=0)\n",
    "\n",
    "print(f\"\\n✅ Final Training Loss: {train_score:.4f}\")\n",
    "print(f\"✅ Final Validation Loss: {val_score:.4f}\")\n"
   ]
  },
  {
   "cell_type": "code",
   "execution_count": 35,
   "id": "cb0fa8ce-34d8-4ece-9767-7c40b2871e08",
   "metadata": {
    "tags": []
   },
   "outputs": [
    {
     "name": "stdout",
     "output_type": "stream",
     "text": [
      "\u001b[1m1/1\u001b[0m \u001b[32m━━━━━━━━━━━━━━━━━━━━\u001b[0m\u001b[37m\u001b[0m \u001b[1m0s\u001b[0m 491ms/step\n",
      "[[3.3700876 3.145247  3.083215  3.2972007 3.3545241 2.943483  3.4440382\n",
      "  3.1684504 2.5958207 2.9811778 2.7084587 2.3010318 3.2555985 2.4740531\n",
      "  3.4427485 2.7323143 3.4201171 3.4402082 2.6563811 2.475038  3.3732913\n",
      "  3.629274  3.029891  3.4858906 3.0639646 2.731113  3.4906452 3.1147044\n",
      "  3.4967022 3.4899337]]\n"
     ]
    }
   ],
   "source": [
    "# Change the input sequence to match the expected shape (335 timesteps)\n",
    "input_sequence = daily_delays.iloc[-60:].values.reshape(1, 60, 7)  # Last 60 days of data with 7 features\n",
    "\n",
    "# Predict the delays for the next 30 days\n",
    "predicted_delays = model.predict(input_sequence)\n",
    "print(predicted_delays)\n"
   ]
  },
  {
   "cell_type": "code",
   "execution_count": null,
   "id": "cb008645-c6ae-4960-abb0-331e5c0118d6",
   "metadata": {},
   "outputs": [],
   "source": []
  }
 ],
 "metadata": {
  "kernelspec": {
   "display_name": "Python 3 (ipykernel)",
   "language": "python",
   "name": "python3"
  },
  "language_info": {
   "codemirror_mode": {
    "name": "ipython",
    "version": 3
   },
   "file_extension": ".py",
   "mimetype": "text/x-python",
   "name": "python",
   "nbconvert_exporter": "python",
   "pygments_lexer": "ipython3",
   "version": "3.11.4"
  }
 },
 "nbformat": 4,
 "nbformat_minor": 5
}
